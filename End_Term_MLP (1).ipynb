{
 "cells": [
  {
   "cell_type": "markdown",
   "metadata": {},
   "source": [
    "Note: Utilize this Jupiter Notebook (End_Term_MLP.ipynb) file attached to perform the following tasks in Jupyter Notebook file. While submitting the file, the filename should be renamed as End_Term_MLP_<Name><Roll Number>.ipynb. The codes should be executed and the outputs should be visible. If the outputs are not present, the students will lose marks."
   ]
  },
  {
   "cell_type": "markdown",
   "metadata": {},
   "source": [
    "Q5.  The following set of questions can be answered using the dataset (classify_strains.csv) attached."
   ]
  },
  {
   "cell_type": "code",
   "execution_count": 192,
   "metadata": {},
   "outputs": [],
   "source": [
    "#Loading appropriate packages\n",
    "\n",
    "import pandas as pd\n",
    "import numpy as np\n",
    "\n",
    "# For OS related operations\n",
    "import os\n",
    "import matplotlib.pyplot as plt\n",
    "import seaborn as sns\n",
    "\n",
    "# Scale numeric data\n",
    "from sklearn.preprocessing import StandardScaler as ss\n",
    "\n",
    "# One hot encode data--Convert to dummy\n",
    "from sklearn.preprocessing import OneHotEncoder as ohe\n",
    "\n",
    "from sklearn.preprocessing import LabelEncoder\n",
    "\n",
    "# for data splitting\n",
    "from sklearn.model_selection import train_test_split\n",
    "\n",
    "\n",
    "#Reading the complete data\n",
    "from sklearn.tree import DecisionTreeClassifier \n",
    "from sklearn import tree\n",
    "###################### Random Forest ############################\n",
    "from sklearn.ensemble import RandomForestClassifier \n",
    "\n",
    "######### kNN ##############\n",
    "from sklearn.neighbors import KNeighborsClassifier\n",
    "\n",
    "\n",
    "\n",
    "from sklearn.metrics import classification_report\n",
    "\n"
   ]
  },
  {
   "cell_type": "markdown",
   "metadata": {},
   "source": [
    "Q5a. Read the file \"classify_strains.csv\" and check if the file is loaded properly by checking the last 3 rows.  [2 marks]"
   ]
  },
  {
   "cell_type": "code",
   "execution_count": 193,
   "metadata": {},
   "outputs": [],
   "source": [
    "df=pd.read_csv(\"classify_strains.csv\")"
   ]
  },
  {
   "cell_type": "code",
   "execution_count": 194,
   "metadata": {},
   "outputs": [
    {
     "data": {
      "text/html": [
       "<div>\n",
       "<style scoped>\n",
       "    .dataframe tbody tr th:only-of-type {\n",
       "        vertical-align: middle;\n",
       "    }\n",
       "\n",
       "    .dataframe tbody tr th {\n",
       "        vertical-align: top;\n",
       "    }\n",
       "\n",
       "    .dataframe thead th {\n",
       "        text-align: right;\n",
       "    }\n",
       "</style>\n",
       "<table border=\"1\" class=\"dataframe\">\n",
       "  <thead>\n",
       "    <tr style=\"text-align: right;\">\n",
       "      <th></th>\n",
       "      <th>Gender</th>\n",
       "      <th>Transmissibility</th>\n",
       "      <th>Impact_Chance</th>\n",
       "      <th>Potassium_content</th>\n",
       "    </tr>\n",
       "  </thead>\n",
       "  <tbody>\n",
       "    <tr>\n",
       "      <th>0</th>\n",
       "      <td>F</td>\n",
       "      <td>HIGH</td>\n",
       "      <td>HIGH</td>\n",
       "      <td>25.355</td>\n",
       "    </tr>\n",
       "    <tr>\n",
       "      <th>1</th>\n",
       "      <td>M</td>\n",
       "      <td>LOW</td>\n",
       "      <td>HIGH</td>\n",
       "      <td>13.093</td>\n",
       "    </tr>\n",
       "    <tr>\n",
       "      <th>2</th>\n",
       "      <td>M</td>\n",
       "      <td>LOW</td>\n",
       "      <td>HIGH</td>\n",
       "      <td>10.114</td>\n",
       "    </tr>\n",
       "  </tbody>\n",
       "</table>\n",
       "</div>"
      ],
      "text/plain": [
       "  Gender Transmissibility Impact_Chance  Potassium_content\n",
       "0      F             HIGH          HIGH             25.355\n",
       "1      M              LOW          HIGH             13.093\n",
       "2      M              LOW          HIGH             10.114"
      ]
     },
     "execution_count": 194,
     "metadata": {},
     "output_type": "execute_result"
    }
   ],
   "source": [
    "df.head(3)"
   ]
  },
  {
   "cell_type": "markdown",
   "metadata": {},
   "source": [
    "Q5b. Check the dimensions of the dataframe (rows and columns).           [1 mark]"
   ]
  },
  {
   "cell_type": "code",
   "execution_count": 195,
   "metadata": {},
   "outputs": [
    {
     "data": {
      "text/plain": [
       "(200, 4)"
      ]
     },
     "execution_count": 195,
     "metadata": {},
     "output_type": "execute_result"
    }
   ],
   "source": [
    "df.shape"
   ]
  },
  {
   "cell_type": "code",
   "execution_count": 196,
   "metadata": {},
   "outputs": [
    {
     "name": "stdout",
     "output_type": "stream",
     "text": [
      "[nan, 26, 76, 95, 86, 70, 32, 37, 88, 46, 23, 28, 31, 77, 64, 63, 20, 38, 52, 85, 81, 79, 55, 22, 93, 20, 71, 76, 44, 94, 81, 34, 42, 71, 58, 49, 35, 68, 67, 26, 41, 28, 95, 50, 63, 84, 55, 47, 67, 59, 78, 70, 57, 93, 22, 87, 67, 53, 90, 90, 51, 44, 59, 73, 39, 76, 42, 41, 94, 40, 55, 30, 70, 24, 50, 78, 44, 50, 45, 21, 92]\n",
      "[50, 40, 93, 49, 93, 41, 52, 70, 76, 93, 45, 40, 92, 31, 55, 59, 41, 67, 85, 67, 67, 85, 77, 52, 40, 78, 46, 41, 51, 32, 37, 93, 20, 63, 81, 95, 87, 88, 39, 76, 22, 28, 77, 41, 67, 32, 22, 35, 79, 20, 67, 67, 52, 38, 73, 28, 53, 90, 37, 32, 22, 20, 77, 84, 77, 67, 46, 57, 87, 67, 55, 41, 90, 70, 26, 51, 44, 20, 85, 41, 41, 63, 94, 93, 44, 94, 46, 53, 67, 58, 67, 67, 45, 55, 57, 93, 41, 51, nan, 70, 50, 70, 44, 39, 73, 23, 64, 26, 95, 67, 77, 86, 46, 76, 81, 45, 63, 86, 95, 44, 93, 41, 81, 26, 26, 73, 41, 93, 77, 55, 46, nan, 45, 57, 70, 23, 73, 40, 93, 44, 76, 44, 67, 24, 63, 31, 50, 51, 76, 86, 26, 31, 21, 71, 70, 90, 24, 93, 87, 92, 34, 81, 70, 58, 67, 78, 31, 45, 63, 95, 58, 41, 87, 55, 50, 67, 81, 28, 22, 44, 50, 90, 38, 88, 63, 59, 78, 41, 90, 42, 44, 28, 50, 45, 55, 95, 38, 93, 67, 37]\n",
      "200\n"
     ]
    }
   ],
   "source": [
    "# Run this set of codes. Do not change anything in this code\n",
    "import random\n",
    "randlist = [np.NaN]\n",
    "for i in range(0,80):\n",
    "    n = random.randint(18,95)\n",
    "    randlist.append(n)\n",
    "print(randlist)\n",
    "\n",
    "age = []\n",
    "for i in range(0,200):\n",
    "    n=\"\"\n",
    "    for j in randlist:\n",
    "        n = random.choice(randlist)\n",
    "    age.append(n)\n",
    "print(age)\n",
    "print(len(age))"
   ]
  },
  {
   "cell_type": "markdown",
   "metadata": {},
   "source": [
    "Q5c. Add a new column in the dataframe named \"Age\" containing the values in the \"age\" array created above. Check if its correctly loaded.    [2 marks]"
   ]
  },
  {
   "cell_type": "code",
   "execution_count": 197,
   "metadata": {},
   "outputs": [
    {
     "data": {
      "text/html": [
       "<div>\n",
       "<style scoped>\n",
       "    .dataframe tbody tr th:only-of-type {\n",
       "        vertical-align: middle;\n",
       "    }\n",
       "\n",
       "    .dataframe tbody tr th {\n",
       "        vertical-align: top;\n",
       "    }\n",
       "\n",
       "    .dataframe thead th {\n",
       "        text-align: right;\n",
       "    }\n",
       "</style>\n",
       "<table border=\"1\" class=\"dataframe\">\n",
       "  <thead>\n",
       "    <tr style=\"text-align: right;\">\n",
       "      <th></th>\n",
       "      <th>Gender</th>\n",
       "      <th>Transmissibility</th>\n",
       "      <th>Impact_Chance</th>\n",
       "      <th>Potassium_content</th>\n",
       "      <th>Age</th>\n",
       "    </tr>\n",
       "  </thead>\n",
       "  <tbody>\n",
       "    <tr>\n",
       "      <th>0</th>\n",
       "      <td>F</td>\n",
       "      <td>HIGH</td>\n",
       "      <td>HIGH</td>\n",
       "      <td>25.355</td>\n",
       "      <td>50.0</td>\n",
       "    </tr>\n",
       "    <tr>\n",
       "      <th>1</th>\n",
       "      <td>M</td>\n",
       "      <td>LOW</td>\n",
       "      <td>HIGH</td>\n",
       "      <td>13.093</td>\n",
       "      <td>40.0</td>\n",
       "    </tr>\n",
       "    <tr>\n",
       "      <th>2</th>\n",
       "      <td>M</td>\n",
       "      <td>LOW</td>\n",
       "      <td>HIGH</td>\n",
       "      <td>10.114</td>\n",
       "      <td>93.0</td>\n",
       "    </tr>\n",
       "    <tr>\n",
       "      <th>3</th>\n",
       "      <td>F</td>\n",
       "      <td>NORMAL</td>\n",
       "      <td>HIGH</td>\n",
       "      <td>7.798</td>\n",
       "      <td>49.0</td>\n",
       "    </tr>\n",
       "    <tr>\n",
       "      <th>4</th>\n",
       "      <td>F</td>\n",
       "      <td>LOW</td>\n",
       "      <td>HIGH</td>\n",
       "      <td>18.043</td>\n",
       "      <td>93.0</td>\n",
       "    </tr>\n",
       "  </tbody>\n",
       "</table>\n",
       "</div>"
      ],
      "text/plain": [
       "  Gender Transmissibility Impact_Chance  Potassium_content   Age\n",
       "0      F             HIGH          HIGH             25.355  50.0\n",
       "1      M              LOW          HIGH             13.093  40.0\n",
       "2      M              LOW          HIGH             10.114  93.0\n",
       "3      F           NORMAL          HIGH              7.798  49.0\n",
       "4      F              LOW          HIGH             18.043  93.0"
      ]
     },
     "execution_count": 197,
     "metadata": {},
     "output_type": "execute_result"
    }
   ],
   "source": [
    "df[\"Age\"]=age\n",
    "df.head()"
   ]
  },
  {
   "cell_type": "markdown",
   "metadata": {},
   "source": [
    "Read this question carefully. Where ever you will find <RollNo> replace it with your own roll number and run the below given code. For Example, if its written like, \"<RollNo>_X\" and your roll number if \"F894\" it should be replaced as \"F894_X\""
   ]
  },
  {
   "cell_type": "code",
   "execution_count": 198,
   "metadata": {},
   "outputs": [
    {
     "name": "stdout",
     "output_type": "stream",
     "text": [
      "['301151_Y', '301151_Z', '301151_A', '301151_A', '301151_X', '301151_X', '301151_Z', '301151_A', '301151_X', '301151_Z', '301151_A', '301151_X', '301151_X', '301151_A', '301151_Y', '301151_X', '301151_A', '301151_A', '301151_Z', '301151_X', '301151_X', '301151_X', '301151_X', '301151_X', '301151_A', '301151_Z', '301151_X', '301151_X', '301151_X', '301151_Z', '301151_Z', '301151_X', '301151_A', '301151_Y', '301151_Z', '301151_A', '301151_X', '301151_X', '301151_X', '301151_X', '301151_Z', '301151_Z', '301151_Z', '301151_Y', '301151_A', '301151_Y', '301151_Y', '301151_A', '301151_X', '301151_X', '301151_Z', '301151_Y', '301151_X', '301151_Y', '301151_A', '301151_X', '301151_Z', '301151_A', '301151_Z', '301151_A', '301151_X', '301151_Y', '301151_X', '301151_Z', '301151_A', '301151_Z', '301151_X', '301151_X', '301151_Z', '301151_Z', '301151_Y', '301151_X', '301151_X', '301151_Z', '301151_Y', '301151_X', '301151_A', '301151_Y', '301151_Z', '301151_A', '301151_A', '301151_Z', '301151_Y', '301151_A', '301151_X', '301151_X', '301151_Z', '301151_Y', '301151_Z', '301151_X', '301151_Z', '301151_Z', '301151_X', '301151_Z', '301151_A', '301151_Y', '301151_Y', '301151_Z', '301151_Y', '301151_Z', '301151_Y', '301151_X', '301151_Y', '301151_A', '301151_X', '301151_Y', '301151_A', '301151_Y', '301151_Y', '301151_A', '301151_Z', '301151_X', '301151_Z', '301151_A', '301151_A', '301151_Z', '301151_Z', '301151_A', '301151_X', '301151_A', '301151_X', '301151_A', '301151_X', '301151_Z', '301151_X', '301151_X', '301151_X', '301151_Y', '301151_Y', '301151_X', '301151_X', '301151_X', '301151_A', '301151_X', '301151_Z', '301151_Y', '301151_A', '301151_Z', '301151_X', '301151_Y', '301151_A', '301151_Z', '301151_A', '301151_Z', '301151_X', '301151_Z', '301151_Z', '301151_A', '301151_A', '301151_Z', '301151_X', '301151_A', '301151_Z', '301151_Z', '301151_Y', '301151_Y', '301151_Y', '301151_A', '301151_Y', '301151_X', '301151_X', '301151_A', '301151_A', '301151_Y', '301151_X', '301151_Y', '301151_Z', '301151_Y', '301151_X', '301151_A', '301151_Z', '301151_Y', '301151_Z', '301151_Z', '301151_A', '301151_Y', '301151_Z', '301151_A', '301151_Z', '301151_Y', '301151_Y', '301151_Y', '301151_Y', '301151_Y', '301151_A', '301151_X', '301151_X', '301151_A', '301151_A', '301151_Z', '301151_A', '301151_X', '301151_X', '301151_Y', '301151_Y', '301151_X', '301151_A', '301151_Y', '301151_Y', '301151_Z']\n",
      "200\n"
     ]
    }
   ],
   "source": [
    "#Execute the code given below\n",
    "list1 = [\"301151_X\", \"301151_Y\", \"301151_Z\", \"301151_A\"] #<RollNo> should be replaced with your roll number\n",
    "strain_class = []\n",
    "for i in range(0,200):\n",
    "    n=\"\"\n",
    "    for j in list1:\n",
    "        n = random.choice(list1)\n",
    "    strain_class.append(n)\n",
    "print(strain_class)\n",
    "print(len(strain_class))"
   ]
  },
  {
   "cell_type": "markdown",
   "metadata": {},
   "source": [
    "Q5d. Add a new column in the dataframe named \"Strain_Class\" containing the values in the \"strain_class\" array created above. Check if its correctly loaded.    [2 marks]"
   ]
  },
  {
   "cell_type": "code",
   "execution_count": 199,
   "metadata": {},
   "outputs": [
    {
     "data": {
      "text/html": [
       "<div>\n",
       "<style scoped>\n",
       "    .dataframe tbody tr th:only-of-type {\n",
       "        vertical-align: middle;\n",
       "    }\n",
       "\n",
       "    .dataframe tbody tr th {\n",
       "        vertical-align: top;\n",
       "    }\n",
       "\n",
       "    .dataframe thead th {\n",
       "        text-align: right;\n",
       "    }\n",
       "</style>\n",
       "<table border=\"1\" class=\"dataframe\">\n",
       "  <thead>\n",
       "    <tr style=\"text-align: right;\">\n",
       "      <th></th>\n",
       "      <th>Gender</th>\n",
       "      <th>Transmissibility</th>\n",
       "      <th>Impact_Chance</th>\n",
       "      <th>Potassium_content</th>\n",
       "      <th>Age</th>\n",
       "      <th>Strain_class</th>\n",
       "    </tr>\n",
       "  </thead>\n",
       "  <tbody>\n",
       "    <tr>\n",
       "      <th>0</th>\n",
       "      <td>F</td>\n",
       "      <td>HIGH</td>\n",
       "      <td>HIGH</td>\n",
       "      <td>25.355</td>\n",
       "      <td>50.0</td>\n",
       "      <td>301151_Y</td>\n",
       "    </tr>\n",
       "    <tr>\n",
       "      <th>1</th>\n",
       "      <td>M</td>\n",
       "      <td>LOW</td>\n",
       "      <td>HIGH</td>\n",
       "      <td>13.093</td>\n",
       "      <td>40.0</td>\n",
       "      <td>301151_Z</td>\n",
       "    </tr>\n",
       "    <tr>\n",
       "      <th>2</th>\n",
       "      <td>M</td>\n",
       "      <td>LOW</td>\n",
       "      <td>HIGH</td>\n",
       "      <td>10.114</td>\n",
       "      <td>93.0</td>\n",
       "      <td>301151_A</td>\n",
       "    </tr>\n",
       "    <tr>\n",
       "      <th>3</th>\n",
       "      <td>F</td>\n",
       "      <td>NORMAL</td>\n",
       "      <td>HIGH</td>\n",
       "      <td>7.798</td>\n",
       "      <td>49.0</td>\n",
       "      <td>301151_A</td>\n",
       "    </tr>\n",
       "    <tr>\n",
       "      <th>4</th>\n",
       "      <td>F</td>\n",
       "      <td>LOW</td>\n",
       "      <td>HIGH</td>\n",
       "      <td>18.043</td>\n",
       "      <td>93.0</td>\n",
       "      <td>301151_X</td>\n",
       "    </tr>\n",
       "  </tbody>\n",
       "</table>\n",
       "</div>"
      ],
      "text/plain": [
       "  Gender Transmissibility Impact_Chance  Potassium_content   Age Strain_class\n",
       "0      F             HIGH          HIGH             25.355  50.0     301151_Y\n",
       "1      M              LOW          HIGH             13.093  40.0     301151_Z\n",
       "2      M              LOW          HIGH             10.114  93.0     301151_A\n",
       "3      F           NORMAL          HIGH              7.798  49.0     301151_A\n",
       "4      F              LOW          HIGH             18.043  93.0     301151_X"
      ]
     },
     "execution_count": 199,
     "metadata": {},
     "output_type": "execute_result"
    }
   ],
   "source": [
    "df[\"Strain_class\"]=strain_class\n",
    "df.head()"
   ]
  },
  {
   "cell_type": "markdown",
   "metadata": {},
   "source": [
    "Q5e. Check if there are any missing values in the data. If there are missing values remove them (omission).    [2 marks]"
   ]
  },
  {
   "cell_type": "code",
   "execution_count": 200,
   "metadata": {},
   "outputs": [
    {
     "data": {
      "text/plain": [
       "Gender               0\n",
       "Transmissibility     0\n",
       "Impact_Chance        1\n",
       "Potassium_content    3\n",
       "Age                  2\n",
       "Strain_class         0\n",
       "dtype: int64"
      ]
     },
     "execution_count": 200,
     "metadata": {},
     "output_type": "execute_result"
    }
   ],
   "source": [
    "df.isnull().sum()"
   ]
  },
  {
   "cell_type": "code",
   "execution_count": 201,
   "metadata": {},
   "outputs": [],
   "source": [
    "df=df.dropna()"
   ]
  },
  {
   "cell_type": "markdown",
   "metadata": {},
   "source": [
    "Q5f. Group the Age column into different age groups using 3 bins (\"young\",\"middle-aged\",\"aged\"). Name the column as \"Age_cat\" (Utilize the function 'cut' in pandas)     [3 marks]"
   ]
  },
  {
   "cell_type": "code",
   "execution_count": 202,
   "metadata": {},
   "outputs": [
    {
     "data": {
      "text/html": [
       "<div>\n",
       "<style scoped>\n",
       "    .dataframe tbody tr th:only-of-type {\n",
       "        vertical-align: middle;\n",
       "    }\n",
       "\n",
       "    .dataframe tbody tr th {\n",
       "        vertical-align: top;\n",
       "    }\n",
       "\n",
       "    .dataframe thead th {\n",
       "        text-align: right;\n",
       "    }\n",
       "</style>\n",
       "<table border=\"1\" class=\"dataframe\">\n",
       "  <thead>\n",
       "    <tr style=\"text-align: right;\">\n",
       "      <th></th>\n",
       "      <th>Gender</th>\n",
       "      <th>Transmissibility</th>\n",
       "      <th>Impact_Chance</th>\n",
       "      <th>Potassium_content</th>\n",
       "      <th>Age</th>\n",
       "      <th>Strain_class</th>\n",
       "      <th>Age_cat</th>\n",
       "    </tr>\n",
       "  </thead>\n",
       "  <tbody>\n",
       "    <tr>\n",
       "      <th>0</th>\n",
       "      <td>F</td>\n",
       "      <td>HIGH</td>\n",
       "      <td>HIGH</td>\n",
       "      <td>25.355</td>\n",
       "      <td>50.0</td>\n",
       "      <td>301151_Y</td>\n",
       "      <td>aged</td>\n",
       "    </tr>\n",
       "    <tr>\n",
       "      <th>1</th>\n",
       "      <td>M</td>\n",
       "      <td>LOW</td>\n",
       "      <td>HIGH</td>\n",
       "      <td>13.093</td>\n",
       "      <td>40.0</td>\n",
       "      <td>301151_Z</td>\n",
       "      <td>middle-aged</td>\n",
       "    </tr>\n",
       "    <tr>\n",
       "      <th>2</th>\n",
       "      <td>M</td>\n",
       "      <td>LOW</td>\n",
       "      <td>HIGH</td>\n",
       "      <td>10.114</td>\n",
       "      <td>93.0</td>\n",
       "      <td>301151_A</td>\n",
       "      <td>aged</td>\n",
       "    </tr>\n",
       "    <tr>\n",
       "      <th>3</th>\n",
       "      <td>F</td>\n",
       "      <td>NORMAL</td>\n",
       "      <td>HIGH</td>\n",
       "      <td>7.798</td>\n",
       "      <td>49.0</td>\n",
       "      <td>301151_A</td>\n",
       "      <td>aged</td>\n",
       "    </tr>\n",
       "    <tr>\n",
       "      <th>4</th>\n",
       "      <td>F</td>\n",
       "      <td>LOW</td>\n",
       "      <td>HIGH</td>\n",
       "      <td>18.043</td>\n",
       "      <td>93.0</td>\n",
       "      <td>301151_X</td>\n",
       "      <td>aged</td>\n",
       "    </tr>\n",
       "    <tr>\n",
       "      <th>5</th>\n",
       "      <td>F</td>\n",
       "      <td>NORMAL</td>\n",
       "      <td>HIGH</td>\n",
       "      <td>8.607</td>\n",
       "      <td>41.0</td>\n",
       "      <td>301151_X</td>\n",
       "      <td>aged</td>\n",
       "    </tr>\n",
       "    <tr>\n",
       "      <th>6</th>\n",
       "      <td>F</td>\n",
       "      <td>NORMAL</td>\n",
       "      <td>HIGH</td>\n",
       "      <td>16.275</td>\n",
       "      <td>52.0</td>\n",
       "      <td>301151_Z</td>\n",
       "      <td>aged</td>\n",
       "    </tr>\n",
       "    <tr>\n",
       "      <th>7</th>\n",
       "      <td>M</td>\n",
       "      <td>LOW</td>\n",
       "      <td>HIGH</td>\n",
       "      <td>11.037</td>\n",
       "      <td>70.0</td>\n",
       "      <td>301151_A</td>\n",
       "      <td>aged</td>\n",
       "    </tr>\n",
       "    <tr>\n",
       "      <th>8</th>\n",
       "      <td>M</td>\n",
       "      <td>NORMAL</td>\n",
       "      <td>HIGH</td>\n",
       "      <td>15.171</td>\n",
       "      <td>76.0</td>\n",
       "      <td>301151_X</td>\n",
       "      <td>aged</td>\n",
       "    </tr>\n",
       "    <tr>\n",
       "      <th>9</th>\n",
       "      <td>M</td>\n",
       "      <td>LOW</td>\n",
       "      <td>NORMAL</td>\n",
       "      <td>19.368</td>\n",
       "      <td>93.0</td>\n",
       "      <td>301151_Z</td>\n",
       "      <td>aged</td>\n",
       "    </tr>\n",
       "  </tbody>\n",
       "</table>\n",
       "</div>"
      ],
      "text/plain": [
       "  Gender Transmissibility Impact_Chance  Potassium_content   Age Strain_class  \\\n",
       "0      F             HIGH          HIGH             25.355  50.0     301151_Y   \n",
       "1      M              LOW          HIGH             13.093  40.0     301151_Z   \n",
       "2      M              LOW          HIGH             10.114  93.0     301151_A   \n",
       "3      F           NORMAL          HIGH              7.798  49.0     301151_A   \n",
       "4      F              LOW          HIGH             18.043  93.0     301151_X   \n",
       "5      F           NORMAL          HIGH              8.607  41.0     301151_X   \n",
       "6      F           NORMAL          HIGH             16.275  52.0     301151_Z   \n",
       "7      M              LOW          HIGH             11.037  70.0     301151_A   \n",
       "8      M           NORMAL          HIGH             15.171  76.0     301151_X   \n",
       "9      M              LOW        NORMAL             19.368  93.0     301151_Z   \n",
       "\n",
       "       Age_cat  \n",
       "0         aged  \n",
       "1  middle-aged  \n",
       "2         aged  \n",
       "3         aged  \n",
       "4         aged  \n",
       "5         aged  \n",
       "6         aged  \n",
       "7         aged  \n",
       "8         aged  \n",
       "9         aged  "
      ]
     },
     "execution_count": 202,
     "metadata": {},
     "output_type": "execute_result"
    }
   ],
   "source": [
    "bins = [0,18,40,100]\n",
    "labels=[\"young\",\"middle-aged\",\"aged\"]\n",
    "df['Age_cat'] = pd.cut(df['Age'], bins,labels=labels)\n",
    "df.head(10)"
   ]
  },
  {
   "cell_type": "markdown",
   "metadata": {},
   "source": [
    "Q5g. Remove the column \"Age\".       [1 mark]"
   ]
  },
  {
   "cell_type": "markdown",
   "metadata": {},
   "source": [
    "\n",
    "Q5h. Standardize/Normalize the numeric column(s) and encode the categorical columns. The target variable (Strain_Class) should be label encoded.     [6 marks]"
   ]
  },
  {
   "cell_type": "code",
   "execution_count": 203,
   "metadata": {},
   "outputs": [
    {
     "data": {
      "text/html": [
       "<div>\n",
       "<style scoped>\n",
       "    .dataframe tbody tr th:only-of-type {\n",
       "        vertical-align: middle;\n",
       "    }\n",
       "\n",
       "    .dataframe tbody tr th {\n",
       "        vertical-align: top;\n",
       "    }\n",
       "\n",
       "    .dataframe thead th {\n",
       "        text-align: right;\n",
       "    }\n",
       "</style>\n",
       "<table border=\"1\" class=\"dataframe\">\n",
       "  <thead>\n",
       "    <tr style=\"text-align: right;\">\n",
       "      <th></th>\n",
       "      <th>Gender</th>\n",
       "      <th>Transmissibility</th>\n",
       "      <th>Impact_Chance</th>\n",
       "      <th>Potassium_content</th>\n",
       "      <th>Age</th>\n",
       "      <th>Strain_class</th>\n",
       "      <th>Age_cat</th>\n",
       "    </tr>\n",
       "  </thead>\n",
       "  <tbody>\n",
       "    <tr>\n",
       "      <th>0</th>\n",
       "      <td>0</td>\n",
       "      <td>0</td>\n",
       "      <td>0</td>\n",
       "      <td>1.337841</td>\n",
       "      <td>-0.394276</td>\n",
       "      <td>2</td>\n",
       "      <td>0</td>\n",
       "    </tr>\n",
       "    <tr>\n",
       "      <th>1</th>\n",
       "      <td>1</td>\n",
       "      <td>1</td>\n",
       "      <td>0</td>\n",
       "      <td>-0.400409</td>\n",
       "      <td>-0.846341</td>\n",
       "      <td>3</td>\n",
       "      <td>1</td>\n",
       "    </tr>\n",
       "    <tr>\n",
       "      <th>2</th>\n",
       "      <td>1</td>\n",
       "      <td>1</td>\n",
       "      <td>0</td>\n",
       "      <td>-0.822709</td>\n",
       "      <td>1.549606</td>\n",
       "      <td>0</td>\n",
       "      <td>0</td>\n",
       "    </tr>\n",
       "    <tr>\n",
       "      <th>3</th>\n",
       "      <td>0</td>\n",
       "      <td>2</td>\n",
       "      <td>0</td>\n",
       "      <td>-1.151023</td>\n",
       "      <td>-0.439482</td>\n",
       "      <td>0</td>\n",
       "      <td>0</td>\n",
       "    </tr>\n",
       "    <tr>\n",
       "      <th>4</th>\n",
       "      <td>0</td>\n",
       "      <td>1</td>\n",
       "      <td>0</td>\n",
       "      <td>0.301299</td>\n",
       "      <td>1.549606</td>\n",
       "      <td>1</td>\n",
       "      <td>0</td>\n",
       "    </tr>\n",
       "  </tbody>\n",
       "</table>\n",
       "</div>"
      ],
      "text/plain": [
       "   Gender  Transmissibility  Impact_Chance  Potassium_content       Age  \\\n",
       "0       0                 0              0           1.337841 -0.394276   \n",
       "1       1                 1              0          -0.400409 -0.846341   \n",
       "2       1                 1              0          -0.822709  1.549606   \n",
       "3       0                 2              0          -1.151023 -0.439482   \n",
       "4       0                 1              0           0.301299  1.549606   \n",
       "\n",
       "   Strain_class  Age_cat  \n",
       "0             2        0  \n",
       "1             3        1  \n",
       "2             0        0  \n",
       "3             0        0  \n",
       "4             1        0  "
      ]
     },
     "execution_count": 203,
     "metadata": {},
     "output_type": "execute_result"
    }
   ],
   "source": [
    "cat=[\"Gender\",\n",
    "\"Transmissibility\",\n",
    "\"Impact_Chance\"\n",
    ",\"Strain_class\",\n",
    "\"Age_cat\"]\n",
    "num=[\"Potassium_content\"\n",
    ",\"Age\"]\n",
    "s=ss()\n",
    "df[num]=s.fit_transform(df[num])\n",
    "l=LabelEncoder()\n",
    "df[cat] =df[cat].apply(l.fit_transform)\n",
    "df.head()"
   ]
  },
  {
   "cell_type": "markdown",
   "metadata": {},
   "source": [
    "Q5i. Form a heatmap to visualize correlation between different columns. State your interpretation.              [4 marks]"
   ]
  },
  {
   "cell_type": "code",
   "execution_count": 204,
   "metadata": {},
   "outputs": [
    {
     "data": {
      "image/png": "[encoded data removed]",
      "text/plain": [
       "<Figure size 1800x1800 with 2 Axes>"
      ]
     },
     "metadata": {
      "needs_background": "light"
     },
     "output_type": "display_data"
    }
   ],
   "source": [
    "plt.figure(figsize=(25,25))\n",
    "sns.heatmap(df.corr(), center=0, annot=True)\n",
    "plt.title(\"Correlation Map\")\n",
    "plt.show()"
   ]
  },
  {
   "cell_type": "markdown",
   "metadata": {
    "collapsed": true
   },
   "source": [
    "Q5j. Create a bar-graph/column chart to figure out how many people belong to each age category.        [3 marks]"
   ]
  },
  {
   "cell_type": "code",
   "execution_count": 205,
   "metadata": {},
   "outputs": [
    {
     "data": {
      "text/plain": [
       "Text(0, 0.5, 'Total')"
      ]
     },
     "execution_count": 205,
     "metadata": {},
     "output_type": "execute_result"
    },
    {
     "data": {
      "image/png": "[encoded data removed]",
      "text/plain": [
       "<Figure size 432x288 with 1 Axes>"
      ]
     },
     "metadata": {
      "needs_background": "light"
     },
     "output_type": "display_data"
    }
   ],
   "source": [
    "table = pd.crosstab(df['Age_cat'],df['Age_cat'])\n",
    "table.columns = [\"middle-aged\",\"aged\"]\n",
    "table.plot(kind='bar')\n",
    "\n",
    "plt.grid()\n",
    "\n",
    "plt.title('Age distribution')\n",
    "plt.xlabel(\"Age_Cat\")\n",
    "plt.ylabel('Total')"
   ]
  },
  {
   "cell_type": "markdown",
   "metadata": {},
   "source": [
    "Q5k. Place the independent variables in X. Place the dependent variable (strain_class) in Y. Then split the dataset into training and testing parts (80% training; 20% testing).                       [3 marks]"
   ]
  },
  {
   "cell_type": "code",
   "execution_count": 206,
   "metadata": {},
   "outputs": [],
   "source": [
    "X = df.drop(\"Strain_class\",axis=1).values\n",
    "y = df[\"Strain_class\"]\n",
    "X_train, X_test, Y_train, Y_test = train_test_split(X, y, test_size = 0.20,random_state = 0)"
   ]
  },
  {
   "cell_type": "markdown",
   "metadata": {},
   "source": [
    "Q5l. Utilize RandomForest and kNN to build the classification model. Based on F-measure/F1-score and Accuracy determine which model is better.\t\t\t\t\t\t\t\t                                                    [4+4+2=10]"
   ]
  },
  {
   "cell_type": "code",
   "execution_count": 207,
   "metadata": {},
   "outputs": [
    {
     "data": {
      "image/png": "[encoded data removed]",
      "text/plain": [
       "<Figure size 720x432 with 1 Axes>"
      ]
     },
     "metadata": {
      "needs_background": "light"
     },
     "output_type": "display_data"
    },
    {
     "name": "stdout",
     "output_type": "stream",
     "text": [
      "Minimum error:- 0.6153846153846154 at K = 10\n"
     ]
    }
   ],
   "source": [
    "from sklearn.metrics import accuracy_score\n",
    "error_rate = []\n",
    "for i in range(1,40):\n",
    " knn = KNeighborsClassifier(n_neighbors=i)\n",
    " knn.fit(X_train,Y_train)\n",
    " pred_i = knn.predict(X_test)\n",
    " #print (pred_i)\n",
    " #print (1-accuracy_score(y_test, pred_i))\n",
    " error_rate.append(1-accuracy_score(Y_test, pred_i))\n",
    "\n",
    "plt.figure(figsize=(10,6))\n",
    "plt.plot(range(1,40),error_rate,color='blue', linestyle='dashed', \n",
    "         marker='o',markerfacecolor='red', markersize=10)\n",
    "plt.title('Error Rate vs. K Value')\n",
    "plt.xlabel('K')\n",
    "plt.ylabel('Error Rate')\n",
    "plt.show()\n",
    "print(\"Minimum error:-\",min(error_rate),\"at K =\",error_rate.index(min(error_rate))+1)"
   ]
  },
  {
   "cell_type": "code",
   "execution_count": 227,
   "metadata": {},
   "outputs": [
    {
     "name": "stdout",
     "output_type": "stream",
     "text": [
      "0.38461538461538464\n"
     ]
    },
    {
     "data": {
      "text/plain": [
       "array([0.42105263, 0.4       , 0.42105263, 0.26666667])"
      ]
     },
     "execution_count": 227,
     "metadata": {},
     "output_type": "execute_result"
    }
   ],
   "source": [
    "from sklearn.metrics import f1_score\n",
    "knn = KNeighborsClassifier(n_neighbors=10, metric='euclidean')\n",
    "knn.fit(X_train, Y_train)\n",
    "y_pred = knn.predict(X_test)\n",
    "print(accuracy_score(Y_test, y_pred))\n",
    "f1_score(Y_test, y_pred,average=None)"
   ]
  },
  {
   "cell_type": "code",
   "execution_count": 228,
   "metadata": {},
   "outputs": [
    {
     "name": "stdout",
     "output_type": "stream",
     "text": [
      "0.20512820512820512\n"
     ]
    },
    {
     "data": {
      "text/plain": [
       "array([0.25      , 0.1       , 0.125     , 0.30769231])"
      ]
     },
     "execution_count": 228,
     "metadata": {},
     "output_type": "execute_result"
    }
   ],
   "source": [
    "rf = RandomForestClassifier(max_depth=10)\n",
    "rf.fit(X_train, Y_train)\n",
    "y1_pred = rf.predict(X_test)\n",
    "print(accuracy_score(Y_test, y1_pred))\n",
    "f1_score(Y_test, y1_pred,average=None)\n"
   ]
  },
  {
   "cell_type": "code",
   "execution_count": 189,
   "metadata": {},
   "outputs": [],
   "source": [
    "#Based on Accuracy score and F1 score Knn is better than Random Forest"
   ]
  },
  {
   "cell_type": "markdown",
   "metadata": {},
   "source": [
    "Q5m. Taking the last digit of your roll number (If your roll number is '025001', the last digit is 1. If the last digit value is greater than 5, then consider the value as 4) as the number of components, do a Principal Component Analysis (PCA) on the same data. Create a RandomForestClassifier on the transformed data and check if there is any improvement of performance.                           [5 marks]"
   ]
  },
  {
   "cell_type": "code",
   "execution_count": 229,
   "metadata": {},
   "outputs": [
    {
     "data": {
      "text/plain": [
       "((194, 6), (194, 1))"
      ]
     },
     "execution_count": 229,
     "metadata": {},
     "output_type": "execute_result"
    }
   ],
   "source": [
    "from sklearn.decomposition import PCA\n",
    "model1=PCA(n_components=1)\n",
    "\n",
    "model1.fit(X)\n",
    "X_PCA=model1.transform(X)\n",
    "X.shape,X_PCA.shape"
   ]
  },
  {
   "cell_type": "code",
   "execution_count": 230,
   "metadata": {},
   "outputs": [
    {
     "name": "stdout",
     "output_type": "stream",
     "text": [
      "0.2564102564102564\n"
     ]
    },
    {
     "data": {
      "text/plain": [
       "array([0.25      , 0.1       , 0.125     , 0.30769231])"
      ]
     },
     "execution_count": 230,
     "metadata": {},
     "output_type": "execute_result"
    }
   ],
   "source": [
    "X_train, X_test, Y_train, Y_test = train_test_split(X, y, test_size = 0.20,random_state = 0)\n",
    "rf = RandomForestClassifier(max_depth=10)\n",
    "rf.fit(X_train, Y_train)\n",
    "y2_pred = rf.predict(X_test)\n",
    "print(accuracy_score(Y_test, y2_pred))\n",
    "f1_score(Y_test, y1_pred,average=None)\n"
   ]
  },
  {
   "cell_type": "code",
   "execution_count": null,
   "metadata": {},
   "outputs": [],
   "source": [
    "#After pc the accuracy score for random forest has improved"
   ]
  }
 ],
 "metadata": {
  "kernelspec": {
   "display_name": "Python 3 (ipykernel)",
   "language": "python",
   "name": "python3"
  },
  "language_info": {
   "codemirror_mode": {
    "name": "ipython",
    "version": 3
   },
   "file_extension": ".py",
   "mimetype": "text/x-python",
   "name": "python",
   "nbconvert_exporter": "python",
   "pygments_lexer": "ipython3",
   "version": "3.9.7"
  }
 },
 "nbformat": 4,
 "nbformat_minor": 2
}
